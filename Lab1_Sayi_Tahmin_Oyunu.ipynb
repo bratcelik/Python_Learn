{
 "cells": [
  {
   "cell_type": "code",
   "execution_count": 134,
   "id": "617f0c2d",
   "metadata": {},
   "outputs": [
    {
     "name": "stdout",
     "output_type": "stream",
     "text": [
      "1-20 arasinda tamsayi girin : 5\n",
      "Kücük girdin\n",
      "18\n"
     ]
    }
   ],
   "source": [
    "\"\"\"\n",
    "Seviye 1\n",
    "\"\"\"\n",
    "\n",
    "import random # kütüphane eklendi\n",
    "\n",
    "x=random.randrange(1,21) # random sayı üretme max dahil degildir.\n",
    "\n",
    "tahmin = int(input('1-20 arasinda tamsayi girin : '))\n",
    "\n",
    "if x == tahmin:\n",
    "    print(\"Bildin\")\n",
    "elif x < tahmin:\n",
    "    print(\"Büyük girdin\")\n",
    "elif x > tahmin:\n",
    "    print(\"Kücük girdin\")\n",
    "else:\n",
    "    print(\"Yanlıs giris\")\n",
    "\n",
    "    \n",
    "print(x)\n"
   ]
  }
 ],
 "metadata": {
  "kernelspec": {
   "display_name": "Python 3 (ipykernel)",
   "language": "python",
   "name": "python3"
  },
  "language_info": {
   "codemirror_mode": {
    "name": "ipython",
    "version": 3
   },
   "file_extension": ".py",
   "mimetype": "text/x-python",
   "name": "python",
   "nbconvert_exporter": "python",
   "pygments_lexer": "ipython3",
   "version": "3.9.7"
  }
 },
 "nbformat": 4,
 "nbformat_minor": 5
}
